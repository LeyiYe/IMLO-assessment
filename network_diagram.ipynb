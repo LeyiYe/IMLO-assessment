{
  "nbformat": 4,
  "nbformat_minor": 0,
  "metadata": {
    "colab": {
      "provenance": [],
      "authorship_tag": "ABX9TyNAGYU/y7zBuPb4z8MqDwPH",
      "include_colab_link": true
    },
    "kernelspec": {
      "name": "python3",
      "display_name": "Python 3"
    },
    "language_info": {
      "name": "python"
    }
  },
  "cells": [
    {
      "cell_type": "markdown",
      "metadata": {
        "id": "view-in-github",
        "colab_type": "text"
      },
      "source": [
        "<a href=\"https://colab.research.google.com/github/LeyiYe/IMLO-assessment/blob/main/network_diagram.ipynb\" target=\"_parent\"><img src=\"https://colab.research.google.com/assets/colab-badge.svg\" alt=\"Open In Colab\"/></a>"
      ]
    },
    {
      "cell_type": "code",
      "execution_count": null,
      "metadata": {
        "colab": {
          "base_uri": "https://localhost:8080/",
          "height": 1000
        },
        "id": "CSSpWfLMUIDb",
        "outputId": "6d9e7743-6060-4e65-e55f-c69e952dd27e"
      },
      "outputs": [
        {
          "output_type": "stream",
          "name": "stdout",
          "text": [
            "Collecting git+https://github.com/szagoruyko/pytorchviz.git@master\n",
            "  Cloning https://github.com/szagoruyko/pytorchviz.git (to revision master) to /tmp/pip-req-build-w3rtqq5g\n",
            "  Running command git clone --filter=blob:none --quiet https://github.com/szagoruyko/pytorchviz.git /tmp/pip-req-build-w3rtqq5g\n",
            "  Resolved https://github.com/szagoruyko/pytorchviz.git to commit 0adcd83af8aa7ab36d6afd139cabbd9df598edb7\n",
            "  Preparing metadata (setup.py) ... \u001b[?25l\u001b[?25hdone\n",
            "Requirement already satisfied: torch in /usr/local/lib/python3.10/dist-packages (from torchviz==0.0.2) (2.3.0+cu121)\n",
            "Requirement already satisfied: graphviz in /usr/local/lib/python3.10/dist-packages (from torchviz==0.0.2) (0.20.3)\n",
            "Requirement already satisfied: filelock in /usr/local/lib/python3.10/dist-packages (from torch->torchviz==0.0.2) (3.14.0)\n",
            "Requirement already satisfied: typing-extensions>=4.8.0 in /usr/local/lib/python3.10/dist-packages (from torch->torchviz==0.0.2) (4.11.0)\n",
            "Requirement already satisfied: sympy in /usr/local/lib/python3.10/dist-packages (from torch->torchviz==0.0.2) (1.12)\n",
            "Requirement already satisfied: networkx in /usr/local/lib/python3.10/dist-packages (from torch->torchviz==0.0.2) (3.3)\n",
            "Requirement already satisfied: jinja2 in /usr/local/lib/python3.10/dist-packages (from torch->torchviz==0.0.2) (3.1.4)\n",
            "Requirement already satisfied: fsspec in /usr/local/lib/python3.10/dist-packages (from torch->torchviz==0.0.2) (2023.6.0)\n",
            "Collecting nvidia-cuda-nvrtc-cu12==12.1.105 (from torch->torchviz==0.0.2)\n",
            "  Using cached nvidia_cuda_nvrtc_cu12-12.1.105-py3-none-manylinux1_x86_64.whl (23.7 MB)\n",
            "Collecting nvidia-cuda-runtime-cu12==12.1.105 (from torch->torchviz==0.0.2)\n",
            "  Using cached nvidia_cuda_runtime_cu12-12.1.105-py3-none-manylinux1_x86_64.whl (823 kB)\n",
            "Collecting nvidia-cuda-cupti-cu12==12.1.105 (from torch->torchviz==0.0.2)\n",
            "  Using cached nvidia_cuda_cupti_cu12-12.1.105-py3-none-manylinux1_x86_64.whl (14.1 MB)\n",
            "Collecting nvidia-cudnn-cu12==8.9.2.26 (from torch->torchviz==0.0.2)\n",
            "  Using cached nvidia_cudnn_cu12-8.9.2.26-py3-none-manylinux1_x86_64.whl (731.7 MB)\n",
            "Collecting nvidia-cublas-cu12==12.1.3.1 (from torch->torchviz==0.0.2)\n",
            "  Using cached nvidia_cublas_cu12-12.1.3.1-py3-none-manylinux1_x86_64.whl (410.6 MB)\n",
            "Collecting nvidia-cufft-cu12==11.0.2.54 (from torch->torchviz==0.0.2)\n",
            "  Using cached nvidia_cufft_cu12-11.0.2.54-py3-none-manylinux1_x86_64.whl (121.6 MB)\n",
            "Collecting nvidia-curand-cu12==10.3.2.106 (from torch->torchviz==0.0.2)\n",
            "  Using cached nvidia_curand_cu12-10.3.2.106-py3-none-manylinux1_x86_64.whl (56.5 MB)\n",
            "Collecting nvidia-cusolver-cu12==11.4.5.107 (from torch->torchviz==0.0.2)\n",
            "  Using cached nvidia_cusolver_cu12-11.4.5.107-py3-none-manylinux1_x86_64.whl (124.2 MB)\n",
            "Collecting nvidia-cusparse-cu12==12.1.0.106 (from torch->torchviz==0.0.2)\n",
            "  Using cached nvidia_cusparse_cu12-12.1.0.106-py3-none-manylinux1_x86_64.whl (196.0 MB)\n",
            "Collecting nvidia-nccl-cu12==2.20.5 (from torch->torchviz==0.0.2)\n",
            "  Using cached nvidia_nccl_cu12-2.20.5-py3-none-manylinux2014_x86_64.whl (176.2 MB)\n",
            "Collecting nvidia-nvtx-cu12==12.1.105 (from torch->torchviz==0.0.2)\n",
            "  Using cached nvidia_nvtx_cu12-12.1.105-py3-none-manylinux1_x86_64.whl (99 kB)\n",
            "Requirement already satisfied: triton==2.3.0 in /usr/local/lib/python3.10/dist-packages (from torch->torchviz==0.0.2) (2.3.0)\n",
            "Collecting nvidia-nvjitlink-cu12 (from nvidia-cusolver-cu12==11.4.5.107->torch->torchviz==0.0.2)\n",
            "  Downloading nvidia_nvjitlink_cu12-12.5.40-py3-none-manylinux2014_x86_64.whl (21.3 MB)\n",
            "\u001b[2K     \u001b[90m━━━━━━━━━━━━━━━━━━━━━━━━━━━━━━━━━━━━━━━━\u001b[0m \u001b[32m21.3/21.3 MB\u001b[0m \u001b[31m47.0 MB/s\u001b[0m eta \u001b[36m0:00:00\u001b[0m\n",
            "\u001b[?25hRequirement already satisfied: MarkupSafe>=2.0 in /usr/local/lib/python3.10/dist-packages (from jinja2->torch->torchviz==0.0.2) (2.1.5)\n",
            "Requirement already satisfied: mpmath>=0.19 in /usr/local/lib/python3.10/dist-packages (from sympy->torch->torchviz==0.0.2) (1.3.0)\n",
            "Building wheels for collected packages: torchviz\n",
            "  Building wheel for torchviz (setup.py) ... \u001b[?25l\u001b[?25hdone\n",
            "  Created wheel for torchviz: filename=torchviz-0.0.2-py3-none-any.whl size=4972 sha256=9fdba926c36790e83ae08384d2f7aa787fe95e1f3c50eec790cb4c5176fbbeb4\n",
            "  Stored in directory: /tmp/pip-ephem-wheel-cache-aqvznzm3/wheels/97/11/17/d09e895f9883bd50923ce86b249a31790356a1b88b280983d8\n",
            "Successfully built torchviz\n",
            "Installing collected packages: nvidia-nvtx-cu12, nvidia-nvjitlink-cu12, nvidia-nccl-cu12, nvidia-curand-cu12, nvidia-cufft-cu12, nvidia-cuda-runtime-cu12, nvidia-cuda-nvrtc-cu12, nvidia-cuda-cupti-cu12, nvidia-cublas-cu12, nvidia-cusparse-cu12, nvidia-cudnn-cu12, nvidia-cusolver-cu12, torchviz\n",
            "Successfully installed nvidia-cublas-cu12-12.1.3.1 nvidia-cuda-cupti-cu12-12.1.105 nvidia-cuda-nvrtc-cu12-12.1.105 nvidia-cuda-runtime-cu12-12.1.105 nvidia-cudnn-cu12-8.9.2.26 nvidia-cufft-cu12-11.0.2.54 nvidia-curand-cu12-10.3.2.106 nvidia-cusolver-cu12-11.4.5.107 nvidia-cusparse-cu12-12.1.0.106 nvidia-nccl-cu12-2.20.5 nvidia-nvjitlink-cu12-12.5.40 nvidia-nvtx-cu12-12.1.105 torchviz-0.0.2\n"
          ]
        },
        {
          "output_type": "error",
          "ename": "NameError",
          "evalue": "name 'y' is not defined",
          "traceback": [
            "\u001b[0;31m---------------------------------------------------------------------------\u001b[0m",
            "\u001b[0;31mNameError\u001b[0m                                 Traceback (most recent call last)",
            "\u001b[0;32m<ipython-input-1-2627c727d791>\u001b[0m in \u001b[0;36m<cell line: 62>\u001b[0;34m()\u001b[0m\n\u001b[1;32m     60\u001b[0m         \u001b[0mx\u001b[0m \u001b[0;34m=\u001b[0m \u001b[0mself\u001b[0m\u001b[0;34m.\u001b[0m\u001b[0mfc2\u001b[0m\u001b[0;34m(\u001b[0m\u001b[0mx\u001b[0m\u001b[0;34m)\u001b[0m\u001b[0;34m\u001b[0m\u001b[0;34m\u001b[0m\u001b[0m\n\u001b[1;32m     61\u001b[0m         \u001b[0;32mreturn\u001b[0m \u001b[0mx\u001b[0m\u001b[0;34m\u001b[0m\u001b[0;34m\u001b[0m\u001b[0m\n\u001b[0;32m---> 62\u001b[0;31m \u001b[0mmake_dot\u001b[0m\u001b[0;34m(\u001b[0m\u001b[0my\u001b[0m\u001b[0;34m.\u001b[0m\u001b[0mmean\u001b[0m\u001b[0;34m(\u001b[0m\u001b[0;34m)\u001b[0m\u001b[0;34m,\u001b[0m \u001b[0mparams\u001b[0m\u001b[0;34m=\u001b[0m\u001b[0mdict\u001b[0m\u001b[0;34m(\u001b[0m\u001b[0mmodel\u001b[0m\u001b[0;34m.\u001b[0m\u001b[0mnamed_parameters\u001b[0m\u001b[0;34m(\u001b[0m\u001b[0;34m)\u001b[0m\u001b[0;34m)\u001b[0m\u001b[0;34m)\u001b[0m\u001b[0;34m\u001b[0m\u001b[0;34m\u001b[0m\u001b[0m\n\u001b[0m",
            "\u001b[0;31mNameError\u001b[0m: name 'y' is not defined"
          ]
        }
      ],
      "source": [
        "import torch\n",
        "import torchvision.transforms as transforms\n",
        "from torchvision.datasets import Flowers102\n",
        "from torch.utils.data import DataLoader\n",
        "import numpy as np\n",
        "import torch.optim as optim\n",
        "import torch.nn.functional as F\n",
        "import torch.nn as nn\n",
        "\n",
        "%pip install -U git+https://github.com/szagoruyko/pytorchviz.git@master\n",
        "from torchviz import make_dot, make_dot_from_trace\n",
        "\n",
        "class CNN_NN(nn.Module):\n",
        "    def __init__(self, num_classes=102):\n",
        "        super(CNN_NN, self).__init__()\n",
        "        self.conv1 = nn.Conv2d(in_channels=3, out_channels=64, kernel_size=3, stride=1, padding=1)\n",
        "        self.conv2 = nn.Conv2d(in_channels=64, out_channels=64, kernel_size=3, stride=1, padding=1)\n",
        "        self.conv3 = nn.Conv2d(in_channels=64, out_channels=128, kernel_size=3, stride=1, padding=1)\n",
        "        self.conv4 = nn.Conv2d(in_channels=128, out_channels=128, kernel_size=3, stride=1, padding=1)\n",
        "        self.conv5= nn.Conv2d(in_channels=128, out_channels=256, kernel_size=3, stride=1, padding=1)\n",
        "        self.conv6= nn.Conv2d(in_channels=256, out_channels=256, kernel_size=3, stride=1, padding=1)\n",
        "        self.pool = nn.MaxPool2d(kernel_size=2, stride=2, padding=0, dilation =1, ceil_mode=False)\n",
        "\n",
        "        # Initialize the size of the fully connected layer based on the sample input\n",
        "        self._to_linear = None\n",
        "        self.convs = nn.Sequential(\n",
        "            self.conv1,\n",
        "            nn.ReLU(inplace=True),\n",
        "            self.conv2,\n",
        "            nn.ReLU(inplace=True),\n",
        "            self.pool,\n",
        "            self.conv3,\n",
        "            nn.ReLU(inplace=True),\n",
        "            self.conv4,\n",
        "            nn.ReLU(inplace=True),\n",
        "            self.pool,\n",
        "            self.conv5,\n",
        "            nn.ReLU(inplace=True),\n",
        "            self.conv6,\n",
        "            nn.ReLU(inplace=True),\n",
        "            self.pool,\n",
        "        )\n",
        "        self._initialize_linear_layer()\n",
        "\n",
        "        self.fc1 = nn.Linear(self._to_linear, 512)\n",
        "        self.fc2 = nn.Linear(512, num_classes)\n",
        "        self.dropout = nn.Dropout(0.5)\n",
        "\n",
        "    def _initialize_linear_layer(self):\n",
        "        # Create a dummy input tensor to calculate the output size after conv layers\n",
        "        x = torch.randn(1, 3, 224, 224)\n",
        "        x = self.convs(x)\n",
        "        self._to_linear = x.view(1, -1).shape[1]\n",
        "\n",
        "    def forward(self, x):\n",
        "        x = self.convs(x)\n",
        "        x = x.view(x.size(0), -1)  # Flatten the tensor while preserving the batch size\n",
        "        x = F.relu(self.fc1(x))\n",
        "        x = self.dropout(x)\n",
        "        x = self.fc2(x)\n",
        "        return x\n",
        "make_dot(y.mean(), params=dict(model.named_parameters()))"
      ]
    },
    {
      "cell_type": "code",
      "source": [
        "pip install matplotlib\n"
      ],
      "metadata": {
        "colab": {
          "base_uri": "https://localhost:8080/"
        },
        "id": "Bp9z2LIQilIA",
        "outputId": "4e4e7ec3-445c-462e-d068-1a2aa82bd6de"
      },
      "execution_count": null,
      "outputs": [
        {
          "output_type": "stream",
          "name": "stdout",
          "text": [
            "Requirement already satisfied: matplotlib in /usr/local/lib/python3.10/dist-packages (3.7.1)\n",
            "Requirement already satisfied: contourpy>=1.0.1 in /usr/local/lib/python3.10/dist-packages (from matplotlib) (1.2.1)\n",
            "Requirement already satisfied: cycler>=0.10 in /usr/local/lib/python3.10/dist-packages (from matplotlib) (0.12.1)\n",
            "Requirement already satisfied: fonttools>=4.22.0 in /usr/local/lib/python3.10/dist-packages (from matplotlib) (4.51.0)\n",
            "Requirement already satisfied: kiwisolver>=1.0.1 in /usr/local/lib/python3.10/dist-packages (from matplotlib) (1.4.5)\n",
            "Requirement already satisfied: numpy>=1.20 in /usr/local/lib/python3.10/dist-packages (from matplotlib) (1.25.2)\n",
            "Requirement already satisfied: packaging>=20.0 in /usr/local/lib/python3.10/dist-packages (from matplotlib) (24.0)\n",
            "Requirement already satisfied: pillow>=6.2.0 in /usr/local/lib/python3.10/dist-packages (from matplotlib) (9.4.0)\n",
            "Requirement already satisfied: pyparsing>=2.3.1 in /usr/local/lib/python3.10/dist-packages (from matplotlib) (3.1.2)\n",
            "Requirement already satisfied: python-dateutil>=2.7 in /usr/local/lib/python3.10/dist-packages (from matplotlib) (2.8.2)\n",
            "Requirement already satisfied: six>=1.5 in /usr/local/lib/python3.10/dist-packages (from python-dateutil>=2.7->matplotlib) (1.16.0)\n"
          ]
        }
      ]
    },
    {
      "cell_type": "code",
      "source": [
        "import os\n",
        "import torch\n",
        "import torchvision.transforms as transforms\n",
        "from torchvision.datasets import Flowers102\n",
        "from torch.utils.data import DataLoader\n",
        "import numpy as np\n",
        "import torch.optim as optim\n",
        "import torch.nn.functional as F\n",
        "import torch.nn as nn\n",
        "from torchviz import make_dot\n",
        "\"\"\"import os\n",
        "from PIL import Image\"\"\"\n",
        "\n",
        "# Define transforms for data augmentation and normalization\n",
        "train_transform = transforms.Compose([\n",
        "    transforms.RandomResizedCrop(224),\n",
        "    transforms.RandomHorizontalFlip(),\n",
        "    transforms.ColorJitter(brightness=0.2, contrast=0.2, saturation=0.2, hue=0.2),\n",
        "    transforms.ToTensor(),\n",
        "    transforms.Normalize(mean=[0.485, 0.456, 0.406], std=[0.229, 0.224, 0.225])\n",
        "])\n",
        "\n",
        "val_transform = transforms.Compose([\n",
        "    transforms.RandomResizedCrop(256),\n",
        "    transforms.CenterCrop(224),\n",
        "    transforms.ToTensor(),\n",
        "    transforms.Normalize(mean=[0.485, 0.456, 0.406], std=[0.229, 0.224, 0.225])\n",
        "])\n",
        "\n",
        "# Load the dataset with train/val/test splits\n",
        "train_dataset = Flowers102(root='./data', split='train', transform=train_transform, download=True)\n",
        "val_dataset = Flowers102(root='./data', split='val', transform=val_transform, download=True)\n",
        "test_dataset = Flowers102(root='./data', split='test', transform=val_transform, download=True)\n",
        "\n",
        "# Set random seed for reproducibility\n",
        "torch.manual_seed(42)\n",
        "np.random.seed(42)\n",
        "\n",
        "# Define data loaders\n",
        "train_loader = DataLoader(train_dataset, batch_size=32, shuffle=True)\n",
        "val_loader = DataLoader(val_dataset, batch_size=16, shuffle=False)\n",
        "test_loader = DataLoader(test_dataset, batch_size=16, shuffle=False)\n",
        "\n",
        "class CNN_NN(nn.Module):\n",
        "    def __init__(self, num_classes=102):\n",
        "        super(CNN_NN, self).__init__()\n",
        "        self.conv1 = nn.Conv2d(in_channels=3, out_channels=64, kernel_size=3, stride=1, padding=1)\n",
        "        self.conv2 = nn.Conv2d(in_channels=64, out_channels=64, kernel_size=3, stride=1, padding=1)\n",
        "        self.conv3 = nn.Conv2d(in_channels=64, out_channels=128, kernel_size=3, stride=1, padding=1)\n",
        "        self.conv4 = nn.Conv2d(in_channels=128, out_channels=128, kernel_size=3, stride=1, padding=1)\n",
        "        self.conv5 = nn.Conv2d(in_channels=128, out_channels=256, kernel_size=3, stride=1, padding=1)\n",
        "        self.conv6 = nn.Conv2d(in_channels=256, out_channels=256, kernel_size=3, stride=1, padding=1)\n",
        "        self.pool = nn.MaxPool2d(kernel_size=2, stride=2, padding=0, dilation=1, ceil_mode=False)\n",
        "\n",
        "        # Initialize the size of the fully connected layer based on the sample input\n",
        "        self._to_linear = None\n",
        "        self.convs = nn.Sequential(\n",
        "            self.conv1,\n",
        "            nn.ReLU(inplace=True),\n",
        "            self.conv2,\n",
        "            nn.ReLU(inplace=True),\n",
        "            self.pool,\n",
        "            self.conv3,\n",
        "            nn.ReLU(inplace=True),\n",
        "            self.conv4,\n",
        "            nn.ReLU(inplace=True),\n",
        "            self.pool,\n",
        "            self.conv5,\n",
        "            nn.ReLU(inplace=True),\n",
        "            self.conv6,\n",
        "            nn.ReLU(inplace=True),\n",
        "            self.pool,\n",
        "        )\n",
        "        self._initialize_linear_layer()\n",
        "\n",
        "        self.fc1 = nn.Linear(self._to_linear, 512)\n",
        "        self.fc2 = nn.Linear(512, num_classes)\n",
        "        self.dropout = nn.Dropout(0.5)\n",
        "\n",
        "    def _initialize_linear_layer(self):\n",
        "        # Create a dummy input tensor to calculate the output size after conv layers\n",
        "        x = torch.randn(1, 3, 224, 224)\n",
        "        x = self.convs(x)\n",
        "        self._to_linear = x.view(1, -1).shape[1]\n",
        "\n",
        "    def forward(self, x):\n",
        "        x = self.convs(x)\n",
        "        x = x.view(x.size(0), -1)  # Flatten the tensor while preserving the batch size\n",
        "        x = F.relu(self.fc1(x))\n",
        "        x = self.dropout(x)\n",
        "        x = self.fc2(x)\n",
        "        return x\n",
        "\n",
        "# Define the device (GPU or CPU)\n",
        "device = torch.device('cuda' if torch.cuda.is_available() else 'cpu')\n",
        "\n",
        "# Initialize the model\n",
        "model = CNN_NN(num_classes=102).to(device)\n",
        "\n",
        "# Generate the diagram using torchviz\n",
        "dummy_input = torch.randn(1, 3, 224, 224).to(device)\n",
        "dot=make_dot(model(dummy_input), show_attrs=False, show_saved=False)\n",
        "dot.attr(size=\"30,30\")\n",
        "dot\n"
      ],
      "metadata": {
        "colab": {
          "base_uri": "https://localhost:8080/",
          "height": 1000
        },
        "id": "cjCdtaMXrC8_",
        "outputId": "0b727db5-91ba-487f-c1d1-30970d8db0fa"
      },
      "execution_count": 48,
      "outputs": [
        {
          "output_type": "execute_result",
          "data": {
            "image/svg+xml": "<?xml version=\"1.0\" encoding=\"UTF-8\" standalone=\"no\"?>\n<!DOCTYPE svg PUBLIC \"-//W3C//DTD SVG 1.1//EN\"\n \"http://www.w3.org/Graphics/SVG/1.1/DTD/svg11.dtd\">\n<!-- Generated by graphviz version 2.43.0 (0)\n -->\n<!-- Title: %3 Pages: 1 -->\n<svg width=\"1068pt\" height=\"1369pt\"\n viewBox=\"0.00 0.00 1068.00 1369.00\" xmlns=\"http://www.w3.org/2000/svg\" xmlns:xlink=\"http://www.w3.org/1999/xlink\">\n<g id=\"graph0\" class=\"graph\" transform=\"scale(1 1) rotate(0) translate(4 1365)\">\n<title>%3</title>\n<polygon fill=\"white\" stroke=\"transparent\" points=\"-4,4 -4,-1365 1064,-1365 1064,4 -4,4\"/>\n<!-- 134720062545312 -->\n<g id=\"node1\" class=\"node\">\n<title>134720062545312</title>\n<polygon fill=\"#caff70\" stroke=\"black\" points=\"885,-31 814,-31 814,0 885,0 885,-31\"/>\n<text text-anchor=\"middle\" x=\"849.5\" y=\"-7\" font-family=\"monospace\" font-size=\"10.00\"> (1, 102)</text>\n</g>\n<!-- 134720065163456 -->\n<g id=\"node2\" class=\"node\">\n<title>134720065163456</title>\n<polygon fill=\"lightgrey\" stroke=\"black\" points=\"900,-86 799,-86 799,-67 900,-67 900,-86\"/>\n<text text-anchor=\"middle\" x=\"849.5\" y=\"-74\" font-family=\"monospace\" font-size=\"10.00\">AddmmBackward0</text>\n</g>\n<!-- 134720065163456&#45;&gt;134720062545312 -->\n<g id=\"edge54\" class=\"edge\">\n<title>134720065163456&#45;&gt;134720062545312</title>\n<path fill=\"none\" stroke=\"black\" d=\"M849.5,-66.79C849.5,-60.07 849.5,-50.4 849.5,-41.34\"/>\n<polygon fill=\"black\" stroke=\"black\" points=\"853,-41.19 849.5,-31.19 846,-41.19 853,-41.19\"/>\n</g>\n<!-- 134720065172000 -->\n<g id=\"node3\" class=\"node\">\n<title>134720065172000</title>\n<polygon fill=\"lightgrey\" stroke=\"black\" points=\"787,-141 686,-141 686,-122 787,-122 787,-141\"/>\n<text text-anchor=\"middle\" x=\"736.5\" y=\"-129\" font-family=\"monospace\" font-size=\"10.00\">AccumulateGrad</text>\n</g>\n<!-- 134720065172000&#45;&gt;134720065163456 -->\n<g id=\"edge1\" class=\"edge\">\n<title>134720065172000&#45;&gt;134720065163456</title>\n<path fill=\"none\" stroke=\"black\" d=\"M754.66,-121.98C772.75,-113.5 800.78,-100.35 821.69,-90.54\"/>\n<polygon fill=\"black\" stroke=\"black\" points=\"823.45,-93.59 831.01,-86.17 820.47,-87.25 823.45,-93.59\"/>\n</g>\n<!-- 134719980794352 -->\n<g id=\"node4\" class=\"node\">\n<title>134719980794352</title>\n<polygon fill=\"lightblue\" stroke=\"black\" points=\"763.5,-208 709.5,-208 709.5,-177 763.5,-177 763.5,-208\"/>\n<text text-anchor=\"middle\" x=\"736.5\" y=\"-184\" font-family=\"monospace\" font-size=\"10.00\"> (102)</text>\n</g>\n<!-- 134719980794352&#45;&gt;134720065172000 -->\n<g id=\"edge2\" class=\"edge\">\n<title>134719980794352&#45;&gt;134720065172000</title>\n<path fill=\"none\" stroke=\"black\" d=\"M736.5,-176.92C736.5,-169.22 736.5,-159.69 736.5,-151.43\"/>\n<polygon fill=\"black\" stroke=\"black\" points=\"740,-151.25 736.5,-141.25 733,-151.25 740,-151.25\"/>\n</g>\n<!-- 134720065171616 -->\n<g id=\"node5\" class=\"node\">\n<title>134720065171616</title>\n<polygon fill=\"lightgrey\" stroke=\"black\" points=\"894,-141 805,-141 805,-122 894,-122 894,-141\"/>\n<text text-anchor=\"middle\" x=\"849.5\" y=\"-129\" font-family=\"monospace\" font-size=\"10.00\">MulBackward0</text>\n</g>\n<!-- 134720065171616&#45;&gt;134720065163456 -->\n<g id=\"edge3\" class=\"edge\">\n<title>134720065171616&#45;&gt;134720065163456</title>\n<path fill=\"none\" stroke=\"black\" d=\"M849.5,-121.75C849.5,-114.8 849.5,-104.85 849.5,-96.13\"/>\n<polygon fill=\"black\" stroke=\"black\" points=\"853,-96.09 849.5,-86.09 846,-96.09 853,-96.09\"/>\n</g>\n<!-- 134720065165184 -->\n<g id=\"node6\" class=\"node\">\n<title>134720065165184</title>\n<polygon fill=\"lightgrey\" stroke=\"black\" points=\"893,-202 798,-202 798,-183 893,-183 893,-202\"/>\n<text text-anchor=\"middle\" x=\"845.5\" y=\"-190\" font-family=\"monospace\" font-size=\"10.00\">ReluBackward0</text>\n</g>\n<!-- 134720065165184&#45;&gt;134720065171616 -->\n<g id=\"edge4\" class=\"edge\">\n<title>134720065165184&#45;&gt;134720065171616</title>\n<path fill=\"none\" stroke=\"black\" d=\"M846.09,-182.79C846.65,-174.6 847.5,-162.06 848.21,-151.55\"/>\n<polygon fill=\"black\" stroke=\"black\" points=\"851.72,-151.46 848.91,-141.24 844.74,-150.98 851.72,-151.46\"/>\n</g>\n<!-- 134720065160048 -->\n<g id=\"node7\" class=\"node\">\n<title>134720065160048</title>\n<polygon fill=\"lightgrey\" stroke=\"black\" points=\"896,-269 795,-269 795,-250 896,-250 896,-269\"/>\n<text text-anchor=\"middle\" x=\"845.5\" y=\"-257\" font-family=\"monospace\" font-size=\"10.00\">AddmmBackward0</text>\n</g>\n<!-- 134720065160048&#45;&gt;134720065165184 -->\n<g id=\"edge5\" class=\"edge\">\n<title>134720065160048&#45;&gt;134720065165184</title>\n<path fill=\"none\" stroke=\"black\" d=\"M845.5,-249.73C845.5,-240.18 845.5,-224.62 845.5,-212.28\"/>\n<polygon fill=\"black\" stroke=\"black\" points=\"849,-212.13 845.5,-202.13 842,-212.13 849,-212.13\"/>\n</g>\n<!-- 134720065170272 -->\n<g id=\"node8\" class=\"node\">\n<title>134720065170272</title>\n<polygon fill=\"lightgrey\" stroke=\"black\" points=\"768,-330 667,-330 667,-311 768,-311 768,-330\"/>\n<text text-anchor=\"middle\" x=\"717.5\" y=\"-318\" font-family=\"monospace\" font-size=\"10.00\">AccumulateGrad</text>\n</g>\n<!-- 134720065170272&#45;&gt;134720065160048 -->\n<g id=\"edge6\" class=\"edge\">\n<title>134720065170272&#45;&gt;134720065160048</title>\n<path fill=\"none\" stroke=\"black\" d=\"M736.11,-310.92C757.54,-301.05 792.94,-284.73 817.65,-273.34\"/>\n<polygon fill=\"black\" stroke=\"black\" points=\"819.25,-276.45 826.87,-269.09 816.32,-270.1 819.25,-276.45\"/>\n</g>\n<!-- 134720061946384 -->\n<g id=\"node9\" class=\"node\">\n<title>134720061946384</title>\n<polygon fill=\"lightblue\" stroke=\"black\" points=\"731.5,-397 677.5,-397 677.5,-366 731.5,-366 731.5,-397\"/>\n<text text-anchor=\"middle\" x=\"704.5\" y=\"-373\" font-family=\"monospace\" font-size=\"10.00\"> (512)</text>\n</g>\n<!-- 134720061946384&#45;&gt;134720065170272 -->\n<g id=\"edge7\" class=\"edge\">\n<title>134720061946384&#45;&gt;134720065170272</title>\n<path fill=\"none\" stroke=\"black\" d=\"M707.71,-365.92C709.43,-358.13 711.56,-348.47 713.39,-340.15\"/>\n<polygon fill=\"black\" stroke=\"black\" points=\"716.84,-340.77 715.57,-330.25 710,-339.26 716.84,-340.77\"/>\n</g>\n<!-- 134720065164128 -->\n<g id=\"node10\" class=\"node\">\n<title>134720065164128</title>\n<polygon fill=\"lightgrey\" stroke=\"black\" points=\"893,-330 798,-330 798,-311 893,-311 893,-330\"/>\n<text text-anchor=\"middle\" x=\"845.5\" y=\"-318\" font-family=\"monospace\" font-size=\"10.00\">ViewBackward0</text>\n</g>\n<!-- 134720065164128&#45;&gt;134720065160048 -->\n<g id=\"edge8\" class=\"edge\">\n<title>134720065164128&#45;&gt;134720065160048</title>\n<path fill=\"none\" stroke=\"black\" d=\"M845.5,-310.79C845.5,-302.6 845.5,-290.06 845.5,-279.55\"/>\n<polygon fill=\"black\" stroke=\"black\" points=\"849,-279.24 845.5,-269.24 842,-279.24 849,-279.24\"/>\n</g>\n<!-- 134720065165568 -->\n<g id=\"node11\" class=\"node\">\n<title>134720065165568</title>\n<polygon fill=\"lightgrey\" stroke=\"black\" points=\"941,-391 750,-391 750,-372 941,-372 941,-391\"/>\n<text text-anchor=\"middle\" x=\"845.5\" y=\"-379\" font-family=\"monospace\" font-size=\"10.00\">MaxPool2DWithIndicesBackward0</text>\n</g>\n<!-- 134720065165568&#45;&gt;134720065164128 -->\n<g id=\"edge9\" class=\"edge\">\n<title>134720065165568&#45;&gt;134720065164128</title>\n<path fill=\"none\" stroke=\"black\" d=\"M845.5,-371.79C845.5,-363.6 845.5,-351.06 845.5,-340.55\"/>\n<polygon fill=\"black\" stroke=\"black\" points=\"849,-340.24 845.5,-330.24 842,-340.24 849,-340.24\"/>\n</g>\n<!-- 134720065161440 -->\n<g id=\"node12\" class=\"node\">\n<title>134720065161440</title>\n<polygon fill=\"lightgrey\" stroke=\"black\" points=\"893,-458 798,-458 798,-439 893,-439 893,-458\"/>\n<text text-anchor=\"middle\" x=\"845.5\" y=\"-446\" font-family=\"monospace\" font-size=\"10.00\">ReluBackward0</text>\n</g>\n<!-- 134720065161440&#45;&gt;134720065165568 -->\n<g id=\"edge10\" class=\"edge\">\n<title>134720065161440&#45;&gt;134720065165568</title>\n<path fill=\"none\" stroke=\"black\" d=\"M845.5,-438.73C845.5,-429.18 845.5,-413.62 845.5,-401.28\"/>\n<polygon fill=\"black\" stroke=\"black\" points=\"849,-401.13 845.5,-391.13 842,-401.13 849,-401.13\"/>\n</g>\n<!-- 134720065160144 -->\n<g id=\"node13\" class=\"node\">\n<title>134720065160144</title>\n<polygon fill=\"lightgrey\" stroke=\"black\" points=\"914,-519 777,-519 777,-500 914,-500 914,-519\"/>\n<text text-anchor=\"middle\" x=\"845.5\" y=\"-507\" font-family=\"monospace\" font-size=\"10.00\">ConvolutionBackward0</text>\n</g>\n<!-- 134720065160144&#45;&gt;134720065161440 -->\n<g id=\"edge11\" class=\"edge\">\n<title>134720065160144&#45;&gt;134720065161440</title>\n<path fill=\"none\" stroke=\"black\" d=\"M845.5,-499.79C845.5,-491.6 845.5,-479.06 845.5,-468.55\"/>\n<polygon fill=\"black\" stroke=\"black\" points=\"849,-468.24 845.5,-458.24 842,-468.24 849,-468.24\"/>\n</g>\n<!-- 134720065163120 -->\n<g id=\"node14\" class=\"node\">\n<title>134720065163120</title>\n<polygon fill=\"lightgrey\" stroke=\"black\" points=\"766,-574 671,-574 671,-555 766,-555 766,-574\"/>\n<text text-anchor=\"middle\" x=\"718.5\" y=\"-562\" font-family=\"monospace\" font-size=\"10.00\">ReluBackward0</text>\n</g>\n<!-- 134720065163120&#45;&gt;134720065160144 -->\n<g id=\"edge12\" class=\"edge\">\n<title>134720065163120&#45;&gt;134720065160144</title>\n<path fill=\"none\" stroke=\"black\" d=\"M738.9,-554.98C759.52,-546.38 791.61,-532.99 815.19,-523.15\"/>\n<polygon fill=\"black\" stroke=\"black\" points=\"816.84,-526.25 824.72,-519.17 814.15,-519.79 816.84,-526.25\"/>\n</g>\n<!-- 134720065162160 -->\n<g id=\"node15\" class=\"node\">\n<title>134720065162160</title>\n<polygon fill=\"lightgrey\" stroke=\"black\" points=\"775,-635 638,-635 638,-616 775,-616 775,-635\"/>\n<text text-anchor=\"middle\" x=\"706.5\" y=\"-623\" font-family=\"monospace\" font-size=\"10.00\">ConvolutionBackward0</text>\n</g>\n<!-- 134720065162160&#45;&gt;134720065163120 -->\n<g id=\"edge13\" class=\"edge\">\n<title>134720065162160&#45;&gt;134720065163120</title>\n<path fill=\"none\" stroke=\"black\" d=\"M708.27,-615.79C709.95,-607.52 712.54,-594.79 714.69,-584.21\"/>\n<polygon fill=\"black\" stroke=\"black\" points=\"718.16,-584.74 716.72,-574.24 711.3,-583.34 718.16,-584.74\"/>\n</g>\n<!-- 134720065167536 -->\n<g id=\"node16\" class=\"node\">\n<title>134720065167536</title>\n<polygon fill=\"lightgrey\" stroke=\"black\" points=\"638,-696 447,-696 447,-677 638,-677 638,-696\"/>\n<text text-anchor=\"middle\" x=\"542.5\" y=\"-684\" font-family=\"monospace\" font-size=\"10.00\">MaxPool2DWithIndicesBackward0</text>\n</g>\n<!-- 134720065167536&#45;&gt;134720065162160 -->\n<g id=\"edge14\" class=\"edge\">\n<title>134720065167536&#45;&gt;134720065162160</title>\n<path fill=\"none\" stroke=\"black\" d=\"M566.35,-676.92C594.4,-666.83 641.17,-650 672.9,-638.59\"/>\n<polygon fill=\"black\" stroke=\"black\" points=\"674.4,-641.77 682.62,-635.09 672.03,-635.18 674.4,-641.77\"/>\n</g>\n<!-- 134720065172480 -->\n<g id=\"node17\" class=\"node\">\n<title>134720065172480</title>\n<polygon fill=\"lightgrey\" stroke=\"black\" points=\"590,-757 495,-757 495,-738 590,-738 590,-757\"/>\n<text text-anchor=\"middle\" x=\"542.5\" y=\"-745\" font-family=\"monospace\" font-size=\"10.00\">ReluBackward0</text>\n</g>\n<!-- 134720065172480&#45;&gt;134720065167536 -->\n<g id=\"edge15\" class=\"edge\">\n<title>134720065172480&#45;&gt;134720065167536</title>\n<path fill=\"none\" stroke=\"black\" d=\"M542.5,-737.79C542.5,-729.6 542.5,-717.06 542.5,-706.55\"/>\n<polygon fill=\"black\" stroke=\"black\" points=\"546,-706.24 542.5,-696.24 539,-706.24 546,-706.24\"/>\n</g>\n<!-- 134720065172768 -->\n<g id=\"node18\" class=\"node\">\n<title>134720065172768</title>\n<polygon fill=\"lightgrey\" stroke=\"black\" points=\"611,-818 474,-818 474,-799 611,-799 611,-818\"/>\n<text text-anchor=\"middle\" x=\"542.5\" y=\"-806\" font-family=\"monospace\" font-size=\"10.00\">ConvolutionBackward0</text>\n</g>\n<!-- 134720065172768&#45;&gt;134720065172480 -->\n<g id=\"edge16\" class=\"edge\">\n<title>134720065172768&#45;&gt;134720065172480</title>\n<path fill=\"none\" stroke=\"black\" d=\"M542.5,-798.79C542.5,-790.6 542.5,-778.06 542.5,-767.55\"/>\n<polygon fill=\"black\" stroke=\"black\" points=\"546,-767.24 542.5,-757.24 539,-767.24 546,-767.24\"/>\n</g>\n<!-- 134720065171232 -->\n<g id=\"node19\" class=\"node\">\n<title>134720065171232</title>\n<polygon fill=\"lightgrey\" stroke=\"black\" points=\"463,-873 368,-873 368,-854 463,-854 463,-873\"/>\n<text text-anchor=\"middle\" x=\"415.5\" y=\"-861\" font-family=\"monospace\" font-size=\"10.00\">ReluBackward0</text>\n</g>\n<!-- 134720065171232&#45;&gt;134720065172768 -->\n<g id=\"edge17\" class=\"edge\">\n<title>134720065171232&#45;&gt;134720065172768</title>\n<path fill=\"none\" stroke=\"black\" d=\"M435.9,-853.98C456.52,-845.38 488.61,-831.99 512.19,-822.15\"/>\n<polygon fill=\"black\" stroke=\"black\" points=\"513.84,-825.25 521.72,-818.17 511.15,-818.79 513.84,-825.25\"/>\n</g>\n<!-- 134720065159616 -->\n<g id=\"node20\" class=\"node\">\n<title>134720065159616</title>\n<polygon fill=\"lightgrey\" stroke=\"black\" points=\"472,-934 335,-934 335,-915 472,-915 472,-934\"/>\n<text text-anchor=\"middle\" x=\"403.5\" y=\"-922\" font-family=\"monospace\" font-size=\"10.00\">ConvolutionBackward0</text>\n</g>\n<!-- 134720065159616&#45;&gt;134720065171232 -->\n<g id=\"edge18\" class=\"edge\">\n<title>134720065159616&#45;&gt;134720065171232</title>\n<path fill=\"none\" stroke=\"black\" d=\"M405.27,-914.79C406.95,-906.52 409.54,-893.79 411.69,-883.21\"/>\n<polygon fill=\"black\" stroke=\"black\" points=\"415.16,-883.74 413.72,-873.24 408.3,-882.34 415.16,-883.74\"/>\n</g>\n<!-- 134720065174112 -->\n<g id=\"node21\" class=\"node\">\n<title>134720065174112</title>\n<polygon fill=\"lightgrey\" stroke=\"black\" points=\"335,-995 144,-995 144,-976 335,-976 335,-995\"/>\n<text text-anchor=\"middle\" x=\"239.5\" y=\"-983\" font-family=\"monospace\" font-size=\"10.00\">MaxPool2DWithIndicesBackward0</text>\n</g>\n<!-- 134720065174112&#45;&gt;134720065159616 -->\n<g id=\"edge19\" class=\"edge\">\n<title>134720065174112&#45;&gt;134720065159616</title>\n<path fill=\"none\" stroke=\"black\" d=\"M263.35,-975.92C291.4,-965.83 338.17,-949 369.9,-937.59\"/>\n<polygon fill=\"black\" stroke=\"black\" points=\"371.4,-940.77 379.62,-934.09 369.03,-934.18 371.4,-940.77\"/>\n</g>\n<!-- 134720065175024 -->\n<g id=\"node22\" class=\"node\">\n<title>134720065175024</title>\n<polygon fill=\"lightgrey\" stroke=\"black\" points=\"287,-1056 192,-1056 192,-1037 287,-1037 287,-1056\"/>\n<text text-anchor=\"middle\" x=\"239.5\" y=\"-1044\" font-family=\"monospace\" font-size=\"10.00\">ReluBackward0</text>\n</g>\n<!-- 134720065175024&#45;&gt;134720065174112 -->\n<g id=\"edge20\" class=\"edge\">\n<title>134720065175024&#45;&gt;134720065174112</title>\n<path fill=\"none\" stroke=\"black\" d=\"M239.5,-1036.79C239.5,-1028.6 239.5,-1016.06 239.5,-1005.55\"/>\n<polygon fill=\"black\" stroke=\"black\" points=\"243,-1005.24 239.5,-995.24 236,-1005.24 243,-1005.24\"/>\n</g>\n<!-- 134720065165856 -->\n<g id=\"node23\" class=\"node\">\n<title>134720065165856</title>\n<polygon fill=\"lightgrey\" stroke=\"black\" points=\"308,-1117 171,-1117 171,-1098 308,-1098 308,-1117\"/>\n<text text-anchor=\"middle\" x=\"239.5\" y=\"-1105\" font-family=\"monospace\" font-size=\"10.00\">ConvolutionBackward0</text>\n</g>\n<!-- 134720065165856&#45;&gt;134720065175024 -->\n<g id=\"edge21\" class=\"edge\">\n<title>134720065165856&#45;&gt;134720065175024</title>\n<path fill=\"none\" stroke=\"black\" d=\"M239.5,-1097.79C239.5,-1089.6 239.5,-1077.06 239.5,-1066.55\"/>\n<polygon fill=\"black\" stroke=\"black\" points=\"243,-1066.24 239.5,-1056.24 236,-1066.24 243,-1066.24\"/>\n</g>\n<!-- 134720065166048 -->\n<g id=\"node24\" class=\"node\">\n<title>134720065166048</title>\n<polygon fill=\"lightgrey\" stroke=\"black\" points=\"164,-1172 69,-1172 69,-1153 164,-1153 164,-1172\"/>\n<text text-anchor=\"middle\" x=\"116.5\" y=\"-1160\" font-family=\"monospace\" font-size=\"10.00\">ReluBackward0</text>\n</g>\n<!-- 134720065166048&#45;&gt;134720065165856 -->\n<g id=\"edge22\" class=\"edge\">\n<title>134720065166048&#45;&gt;134720065165856</title>\n<path fill=\"none\" stroke=\"black\" d=\"M136.26,-1152.98C156.23,-1144.38 187.3,-1130.99 210.15,-1121.15\"/>\n<polygon fill=\"black\" stroke=\"black\" points=\"211.58,-1124.34 219.38,-1117.17 208.81,-1117.91 211.58,-1124.34\"/>\n</g>\n<!-- 134720065164992 -->\n<g id=\"node25\" class=\"node\">\n<title>134720065164992</title>\n<polygon fill=\"lightgrey\" stroke=\"black\" points=\"178,-1233 41,-1233 41,-1214 178,-1214 178,-1233\"/>\n<text text-anchor=\"middle\" x=\"109.5\" y=\"-1221\" font-family=\"monospace\" font-size=\"10.00\">ConvolutionBackward0</text>\n</g>\n<!-- 134720065164992&#45;&gt;134720065166048 -->\n<g id=\"edge23\" class=\"edge\">\n<title>134720065164992&#45;&gt;134720065166048</title>\n<path fill=\"none\" stroke=\"black\" d=\"M110.53,-1213.79C111.52,-1205.52 113.02,-1192.79 114.28,-1182.21\"/>\n<polygon fill=\"black\" stroke=\"black\" points=\"117.76,-1182.58 115.46,-1172.24 110.81,-1181.76 117.76,-1182.58\"/>\n</g>\n<!-- 134720065172288 -->\n<g id=\"node26\" class=\"node\">\n<title>134720065172288</title>\n<polygon fill=\"lightgrey\" stroke=\"black\" points=\"101,-1294 0,-1294 0,-1275 101,-1275 101,-1294\"/>\n<text text-anchor=\"middle\" x=\"50.5\" y=\"-1282\" font-family=\"monospace\" font-size=\"10.00\">AccumulateGrad</text>\n</g>\n<!-- 134720065172288&#45;&gt;134720065164992 -->\n<g id=\"edge24\" class=\"edge\">\n<title>134720065172288&#45;&gt;134720065164992</title>\n<path fill=\"none\" stroke=\"black\" d=\"M59.21,-1274.79C68.18,-1265.82 82.38,-1251.62 93.41,-1240.59\"/>\n<polygon fill=\"black\" stroke=\"black\" points=\"96.16,-1242.79 100.76,-1233.24 91.21,-1237.84 96.16,-1242.79\"/>\n</g>\n<!-- 134720062543792 -->\n<g id=\"node27\" class=\"node\">\n<title>134720062543792</title>\n<polygon fill=\"lightblue\" stroke=\"black\" points=\"101,-1361 0,-1361 0,-1330 101,-1330 101,-1361\"/>\n<text text-anchor=\"middle\" x=\"50.5\" y=\"-1337\" font-family=\"monospace\" font-size=\"10.00\"> (64, 3, 3, 3)</text>\n</g>\n<!-- 134720062543792&#45;&gt;134720065172288 -->\n<g id=\"edge25\" class=\"edge\">\n<title>134720062543792&#45;&gt;134720065172288</title>\n<path fill=\"none\" stroke=\"black\" d=\"M50.5,-1329.92C50.5,-1322.22 50.5,-1312.69 50.5,-1304.43\"/>\n<polygon fill=\"black\" stroke=\"black\" points=\"54,-1304.25 50.5,-1294.25 47,-1304.25 54,-1304.25\"/>\n</g>\n<!-- 134720065168592 -->\n<g id=\"node28\" class=\"node\">\n<title>134720065168592</title>\n<polygon fill=\"lightgrey\" stroke=\"black\" points=\"220,-1294 119,-1294 119,-1275 220,-1275 220,-1294\"/>\n<text text-anchor=\"middle\" x=\"169.5\" y=\"-1282\" font-family=\"monospace\" font-size=\"10.00\">AccumulateGrad</text>\n</g>\n<!-- 134720065168592&#45;&gt;134720065164992 -->\n<g id=\"edge26\" class=\"edge\">\n<title>134720065168592&#45;&gt;134720065164992</title>\n<path fill=\"none\" stroke=\"black\" d=\"M160.65,-1274.79C151.43,-1265.73 136.79,-1251.34 125.54,-1240.27\"/>\n<polygon fill=\"black\" stroke=\"black\" points=\"127.97,-1237.76 118.39,-1233.24 123.07,-1242.75 127.97,-1237.76\"/>\n</g>\n<!-- 134720062542192 -->\n<g id=\"node29\" class=\"node\">\n<title>134720062542192</title>\n<polygon fill=\"lightblue\" stroke=\"black\" points=\"196.5,-1361 142.5,-1361 142.5,-1330 196.5,-1330 196.5,-1361\"/>\n<text text-anchor=\"middle\" x=\"169.5\" y=\"-1337\" font-family=\"monospace\" font-size=\"10.00\"> (64)</text>\n</g>\n<!-- 134720062542192&#45;&gt;134720065168592 -->\n<g id=\"edge27\" class=\"edge\">\n<title>134720062542192&#45;&gt;134720065168592</title>\n<path fill=\"none\" stroke=\"black\" d=\"M169.5,-1329.92C169.5,-1322.22 169.5,-1312.69 169.5,-1304.43\"/>\n<polygon fill=\"black\" stroke=\"black\" points=\"173,-1304.25 169.5,-1294.25 166,-1304.25 173,-1304.25\"/>\n</g>\n<!-- 134720065159808 -->\n<g id=\"node30\" class=\"node\">\n<title>134720065159808</title>\n<polygon fill=\"lightgrey\" stroke=\"black\" points=\"290,-1172 189,-1172 189,-1153 290,-1153 290,-1172\"/>\n<text text-anchor=\"middle\" x=\"239.5\" y=\"-1160\" font-family=\"monospace\" font-size=\"10.00\">AccumulateGrad</text>\n</g>\n<!-- 134720065159808&#45;&gt;134720065165856 -->\n<g id=\"edge28\" class=\"edge\">\n<title>134720065159808&#45;&gt;134720065165856</title>\n<path fill=\"none\" stroke=\"black\" d=\"M239.5,-1152.75C239.5,-1145.8 239.5,-1135.85 239.5,-1127.13\"/>\n<polygon fill=\"black\" stroke=\"black\" points=\"243,-1127.09 239.5,-1117.09 236,-1127.09 243,-1127.09\"/>\n</g>\n<!-- 134720062542112 -->\n<g id=\"node31\" class=\"node\">\n<title>134720062542112</title>\n<polygon fill=\"lightblue\" stroke=\"black\" points=\"303,-1239 196,-1239 196,-1208 303,-1208 303,-1239\"/>\n<text text-anchor=\"middle\" x=\"249.5\" y=\"-1215\" font-family=\"monospace\" font-size=\"10.00\"> (64, 64, 3, 3)</text>\n</g>\n<!-- 134720062542112&#45;&gt;134720065159808 -->\n<g id=\"edge29\" class=\"edge\">\n<title>134720062542112&#45;&gt;134720065159808</title>\n<path fill=\"none\" stroke=\"black\" d=\"M247.03,-1207.92C245.71,-1200.13 244.07,-1190.47 242.66,-1182.15\"/>\n<polygon fill=\"black\" stroke=\"black\" points=\"246.1,-1181.52 240.98,-1172.25 239.2,-1182.69 246.1,-1181.52\"/>\n</g>\n<!-- 134720065163072 -->\n<g id=\"node32\" class=\"node\">\n<title>134720065163072</title>\n<polygon fill=\"lightgrey\" stroke=\"black\" points=\"409,-1172 308,-1172 308,-1153 409,-1153 409,-1172\"/>\n<text text-anchor=\"middle\" x=\"358.5\" y=\"-1160\" font-family=\"monospace\" font-size=\"10.00\">AccumulateGrad</text>\n</g>\n<!-- 134720065163072&#45;&gt;134720065165856 -->\n<g id=\"edge30\" class=\"edge\">\n<title>134720065163072&#45;&gt;134720065165856</title>\n<path fill=\"none\" stroke=\"black\" d=\"M339.38,-1152.98C320.15,-1144.42 290.27,-1131.11 268.19,-1121.28\"/>\n<polygon fill=\"black\" stroke=\"black\" points=\"269.53,-1118.04 258.97,-1117.17 266.68,-1124.44 269.53,-1118.04\"/>\n</g>\n<!-- 134720062542032 -->\n<g id=\"node33\" class=\"node\">\n<title>134720062542032</title>\n<polygon fill=\"lightblue\" stroke=\"black\" points=\"385.5,-1239 331.5,-1239 331.5,-1208 385.5,-1208 385.5,-1239\"/>\n<text text-anchor=\"middle\" x=\"358.5\" y=\"-1215\" font-family=\"monospace\" font-size=\"10.00\"> (64)</text>\n</g>\n<!-- 134720062542032&#45;&gt;134720065163072 -->\n<g id=\"edge31\" class=\"edge\">\n<title>134720062542032&#45;&gt;134720065163072</title>\n<path fill=\"none\" stroke=\"black\" d=\"M358.5,-1207.92C358.5,-1200.22 358.5,-1190.69 358.5,-1182.43\"/>\n<polygon fill=\"black\" stroke=\"black\" points=\"362,-1182.25 358.5,-1172.25 355,-1182.25 362,-1182.25\"/>\n</g>\n<!-- 134720065164464 -->\n<g id=\"node34\" class=\"node\">\n<title>134720065164464</title>\n<polygon fill=\"lightgrey\" stroke=\"black\" points=\"454,-995 353,-995 353,-976 454,-976 454,-995\"/>\n<text text-anchor=\"middle\" x=\"403.5\" y=\"-983\" font-family=\"monospace\" font-size=\"10.00\">AccumulateGrad</text>\n</g>\n<!-- 134720065164464&#45;&gt;134720065159616 -->\n<g id=\"edge32\" class=\"edge\">\n<title>134720065164464&#45;&gt;134720065159616</title>\n<path fill=\"none\" stroke=\"black\" d=\"M403.5,-975.79C403.5,-967.6 403.5,-955.06 403.5,-944.55\"/>\n<polygon fill=\"black\" stroke=\"black\" points=\"407,-944.24 403.5,-934.24 400,-944.24 407,-944.24\"/>\n</g>\n<!-- 134720062541792 -->\n<g id=\"node35\" class=\"node\">\n<title>134720062541792</title>\n<polygon fill=\"lightblue\" stroke=\"black\" points=\"460,-1062 347,-1062 347,-1031 460,-1031 460,-1062\"/>\n<text text-anchor=\"middle\" x=\"403.5\" y=\"-1038\" font-family=\"monospace\" font-size=\"10.00\"> (128, 64, 3, 3)</text>\n</g>\n<!-- 134720062541792&#45;&gt;134720065164464 -->\n<g id=\"edge33\" class=\"edge\">\n<title>134720062541792&#45;&gt;134720065164464</title>\n<path fill=\"none\" stroke=\"black\" d=\"M403.5,-1030.92C403.5,-1023.22 403.5,-1013.69 403.5,-1005.43\"/>\n<polygon fill=\"black\" stroke=\"black\" points=\"407,-1005.25 403.5,-995.25 400,-1005.25 407,-1005.25\"/>\n</g>\n<!-- 134720065169264 -->\n<g id=\"node36\" class=\"node\">\n<title>134720065169264</title>\n<polygon fill=\"lightgrey\" stroke=\"black\" points=\"573,-995 472,-995 472,-976 573,-976 573,-995\"/>\n<text text-anchor=\"middle\" x=\"522.5\" y=\"-983\" font-family=\"monospace\" font-size=\"10.00\">AccumulateGrad</text>\n</g>\n<!-- 134720065169264&#45;&gt;134720065159616 -->\n<g id=\"edge34\" class=\"edge\">\n<title>134720065169264&#45;&gt;134720065159616</title>\n<path fill=\"none\" stroke=\"black\" d=\"M505.2,-975.92C485.45,-966.13 452.95,-950.01 430.01,-938.64\"/>\n<polygon fill=\"black\" stroke=\"black\" points=\"431.34,-935.4 420.82,-934.09 428.23,-941.67 431.34,-935.4\"/>\n</g>\n<!-- 134720062541632 -->\n<g id=\"node37\" class=\"node\">\n<title>134720062541632</title>\n<polygon fill=\"lightblue\" stroke=\"black\" points=\"549.5,-1062 495.5,-1062 495.5,-1031 549.5,-1031 549.5,-1062\"/>\n<text text-anchor=\"middle\" x=\"522.5\" y=\"-1038\" font-family=\"monospace\" font-size=\"10.00\"> (128)</text>\n</g>\n<!-- 134720062541632&#45;&gt;134720065169264 -->\n<g id=\"edge35\" class=\"edge\">\n<title>134720062541632&#45;&gt;134720065169264</title>\n<path fill=\"none\" stroke=\"black\" d=\"M522.5,-1030.92C522.5,-1023.22 522.5,-1013.69 522.5,-1005.43\"/>\n<polygon fill=\"black\" stroke=\"black\" points=\"526,-1005.25 522.5,-995.25 519,-1005.25 526,-1005.25\"/>\n</g>\n<!-- 134720065173296 -->\n<g id=\"node38\" class=\"node\">\n<title>134720065173296</title>\n<polygon fill=\"lightgrey\" stroke=\"black\" points=\"593,-873 492,-873 492,-854 593,-854 593,-873\"/>\n<text text-anchor=\"middle\" x=\"542.5\" y=\"-861\" font-family=\"monospace\" font-size=\"10.00\">AccumulateGrad</text>\n</g>\n<!-- 134720065173296&#45;&gt;134720065172768 -->\n<g id=\"edge36\" class=\"edge\">\n<title>134720065173296&#45;&gt;134720065172768</title>\n<path fill=\"none\" stroke=\"black\" d=\"M542.5,-853.75C542.5,-846.8 542.5,-836.85 542.5,-828.13\"/>\n<polygon fill=\"black\" stroke=\"black\" points=\"546,-828.09 542.5,-818.09 539,-828.09 546,-828.09\"/>\n</g>\n<!-- 134720062541312 -->\n<g id=\"node39\" class=\"node\">\n<title>134720062541312</title>\n<polygon fill=\"lightblue\" stroke=\"black\" points=\"609,-940 490,-940 490,-909 609,-909 609,-940\"/>\n<text text-anchor=\"middle\" x=\"549.5\" y=\"-916\" font-family=\"monospace\" font-size=\"10.00\"> (128, 128, 3, 3)</text>\n</g>\n<!-- 134720062541312&#45;&gt;134720065173296 -->\n<g id=\"edge37\" class=\"edge\">\n<title>134720062541312&#45;&gt;134720065173296</title>\n<path fill=\"none\" stroke=\"black\" d=\"M547.77,-908.92C546.86,-901.22 545.73,-891.69 544.75,-883.43\"/>\n<polygon fill=\"black\" stroke=\"black\" points=\"548.19,-882.77 543.54,-873.25 541.24,-883.59 548.19,-882.77\"/>\n</g>\n<!-- 134720065162880 -->\n<g id=\"node40\" class=\"node\">\n<title>134720065162880</title>\n<polygon fill=\"lightgrey\" stroke=\"black\" points=\"712,-873 611,-873 611,-854 712,-854 712,-873\"/>\n<text text-anchor=\"middle\" x=\"661.5\" y=\"-861\" font-family=\"monospace\" font-size=\"10.00\">AccumulateGrad</text>\n</g>\n<!-- 134720065162880&#45;&gt;134720065172768 -->\n<g id=\"edge38\" class=\"edge\">\n<title>134720065162880&#45;&gt;134720065172768</title>\n<path fill=\"none\" stroke=\"black\" d=\"M642.38,-853.98C623.15,-845.42 593.27,-832.11 571.19,-822.28\"/>\n<polygon fill=\"black\" stroke=\"black\" points=\"572.53,-819.04 561.97,-818.17 569.68,-825.44 572.53,-819.04\"/>\n</g>\n<!-- 134720062541392 -->\n<g id=\"node41\" class=\"node\">\n<title>134720062541392</title>\n<polygon fill=\"lightblue\" stroke=\"black\" points=\"688.5,-940 634.5,-940 634.5,-909 688.5,-909 688.5,-940\"/>\n<text text-anchor=\"middle\" x=\"661.5\" y=\"-916\" font-family=\"monospace\" font-size=\"10.00\"> (128)</text>\n</g>\n<!-- 134720062541392&#45;&gt;134720065162880 -->\n<g id=\"edge39\" class=\"edge\">\n<title>134720062541392&#45;&gt;134720065162880</title>\n<path fill=\"none\" stroke=\"black\" d=\"M661.5,-908.92C661.5,-901.22 661.5,-891.69 661.5,-883.43\"/>\n<polygon fill=\"black\" stroke=\"black\" points=\"665,-883.25 661.5,-873.25 658,-883.25 665,-883.25\"/>\n</g>\n<!-- 134720065174592 -->\n<g id=\"node42\" class=\"node\">\n<title>134720065174592</title>\n<polygon fill=\"lightgrey\" stroke=\"black\" points=\"757,-696 656,-696 656,-677 757,-677 757,-696\"/>\n<text text-anchor=\"middle\" x=\"706.5\" y=\"-684\" font-family=\"monospace\" font-size=\"10.00\">AccumulateGrad</text>\n</g>\n<!-- 134720065174592&#45;&gt;134720065162160 -->\n<g id=\"edge40\" class=\"edge\">\n<title>134720065174592&#45;&gt;134720065162160</title>\n<path fill=\"none\" stroke=\"black\" d=\"M706.5,-676.79C706.5,-668.6 706.5,-656.06 706.5,-645.55\"/>\n<polygon fill=\"black\" stroke=\"black\" points=\"710,-645.24 706.5,-635.24 703,-645.24 710,-645.24\"/>\n</g>\n<!-- 134720062545392 -->\n<g id=\"node43\" class=\"node\">\n<title>134720062545392</title>\n<polygon fill=\"lightblue\" stroke=\"black\" points=\"766,-763 647,-763 647,-732 766,-732 766,-763\"/>\n<text text-anchor=\"middle\" x=\"706.5\" y=\"-739\" font-family=\"monospace\" font-size=\"10.00\"> (256, 128, 3, 3)</text>\n</g>\n<!-- 134720062545392&#45;&gt;134720065174592 -->\n<g id=\"edge41\" class=\"edge\">\n<title>134720062545392&#45;&gt;134720065174592</title>\n<path fill=\"none\" stroke=\"black\" d=\"M706.5,-731.92C706.5,-724.22 706.5,-714.69 706.5,-706.43\"/>\n<polygon fill=\"black\" stroke=\"black\" points=\"710,-706.25 706.5,-696.25 703,-706.25 710,-706.25\"/>\n</g>\n<!-- 134720065172864 -->\n<g id=\"node44\" class=\"node\">\n<title>134720065172864</title>\n<polygon fill=\"lightgrey\" stroke=\"black\" points=\"876,-696 775,-696 775,-677 876,-677 876,-696\"/>\n<text text-anchor=\"middle\" x=\"825.5\" y=\"-684\" font-family=\"monospace\" font-size=\"10.00\">AccumulateGrad</text>\n</g>\n<!-- 134720065172864&#45;&gt;134720065162160 -->\n<g id=\"edge42\" class=\"edge\">\n<title>134720065172864&#45;&gt;134720065162160</title>\n<path fill=\"none\" stroke=\"black\" d=\"M808.2,-676.92C788.45,-667.13 755.95,-651.01 733.01,-639.64\"/>\n<polygon fill=\"black\" stroke=\"black\" points=\"734.34,-636.4 723.82,-635.09 731.23,-642.67 734.34,-636.4\"/>\n</g>\n<!-- 134720062545152 -->\n<g id=\"node45\" class=\"node\">\n<title>134720062545152</title>\n<polygon fill=\"lightblue\" stroke=\"black\" points=\"852.5,-763 798.5,-763 798.5,-732 852.5,-732 852.5,-763\"/>\n<text text-anchor=\"middle\" x=\"825.5\" y=\"-739\" font-family=\"monospace\" font-size=\"10.00\"> (256)</text>\n</g>\n<!-- 134720062545152&#45;&gt;134720065172864 -->\n<g id=\"edge43\" class=\"edge\">\n<title>134720062545152&#45;&gt;134720065172864</title>\n<path fill=\"none\" stroke=\"black\" d=\"M825.5,-731.92C825.5,-724.22 825.5,-714.69 825.5,-706.43\"/>\n<polygon fill=\"black\" stroke=\"black\" points=\"829,-706.25 825.5,-696.25 822,-706.25 829,-706.25\"/>\n</g>\n<!-- 134720065174256 -->\n<g id=\"node46\" class=\"node\">\n<title>134720065174256</title>\n<polygon fill=\"lightgrey\" stroke=\"black\" points=\"896,-574 795,-574 795,-555 896,-555 896,-574\"/>\n<text text-anchor=\"middle\" x=\"845.5\" y=\"-562\" font-family=\"monospace\" font-size=\"10.00\">AccumulateGrad</text>\n</g>\n<!-- 134720065174256&#45;&gt;134720065160144 -->\n<g id=\"edge44\" class=\"edge\">\n<title>134720065174256&#45;&gt;134720065160144</title>\n<path fill=\"none\" stroke=\"black\" d=\"M845.5,-554.75C845.5,-547.8 845.5,-537.85 845.5,-529.13\"/>\n<polygon fill=\"black\" stroke=\"black\" points=\"849,-529.09 845.5,-519.09 842,-529.09 849,-529.09\"/>\n</g>\n<!-- 134720062545632 -->\n<g id=\"node47\" class=\"node\">\n<title>134720062545632</title>\n<polygon fill=\"lightblue\" stroke=\"black\" points=\"912,-641 793,-641 793,-610 912,-610 912,-641\"/>\n<text text-anchor=\"middle\" x=\"852.5\" y=\"-617\" font-family=\"monospace\" font-size=\"10.00\"> (256, 256, 3, 3)</text>\n</g>\n<!-- 134720062545632&#45;&gt;134720065174256 -->\n<g id=\"edge45\" class=\"edge\">\n<title>134720062545632&#45;&gt;134720065174256</title>\n<path fill=\"none\" stroke=\"black\" d=\"M850.77,-609.92C849.86,-602.22 848.73,-592.69 847.75,-584.43\"/>\n<polygon fill=\"black\" stroke=\"black\" points=\"851.19,-583.77 846.54,-574.25 844.24,-584.59 851.19,-583.77\"/>\n</g>\n<!-- 134720065162016 -->\n<g id=\"node48\" class=\"node\">\n<title>134720065162016</title>\n<polygon fill=\"lightgrey\" stroke=\"black\" points=\"1015,-574 914,-574 914,-555 1015,-555 1015,-574\"/>\n<text text-anchor=\"middle\" x=\"964.5\" y=\"-562\" font-family=\"monospace\" font-size=\"10.00\">AccumulateGrad</text>\n</g>\n<!-- 134720065162016&#45;&gt;134720065160144 -->\n<g id=\"edge46\" class=\"edge\">\n<title>134720065162016&#45;&gt;134720065160144</title>\n<path fill=\"none\" stroke=\"black\" d=\"M945.38,-554.98C926.15,-546.42 896.27,-533.11 874.19,-523.28\"/>\n<polygon fill=\"black\" stroke=\"black\" points=\"875.53,-520.04 864.97,-519.17 872.68,-526.44 875.53,-520.04\"/>\n</g>\n<!-- 134720062545712 -->\n<g id=\"node49\" class=\"node\">\n<title>134720062545712</title>\n<polygon fill=\"lightblue\" stroke=\"black\" points=\"991.5,-641 937.5,-641 937.5,-610 991.5,-610 991.5,-641\"/>\n<text text-anchor=\"middle\" x=\"964.5\" y=\"-617\" font-family=\"monospace\" font-size=\"10.00\"> (256)</text>\n</g>\n<!-- 134720062545712&#45;&gt;134720065162016 -->\n<g id=\"edge47\" class=\"edge\">\n<title>134720062545712&#45;&gt;134720065162016</title>\n<path fill=\"none\" stroke=\"black\" d=\"M964.5,-609.92C964.5,-602.22 964.5,-592.69 964.5,-584.43\"/>\n<polygon fill=\"black\" stroke=\"black\" points=\"968,-584.25 964.5,-574.25 961,-584.25 968,-584.25\"/>\n</g>\n<!-- 134720065161968 -->\n<g id=\"node50\" class=\"node\">\n<title>134720065161968</title>\n<polygon fill=\"lightgrey\" stroke=\"black\" points=\"1018,-330 941,-330 941,-311 1018,-311 1018,-330\"/>\n<text text-anchor=\"middle\" x=\"979.5\" y=\"-318\" font-family=\"monospace\" font-size=\"10.00\">TBackward0</text>\n</g>\n<!-- 134720065161968&#45;&gt;134720065160048 -->\n<g id=\"edge48\" class=\"edge\">\n<title>134720065161968&#45;&gt;134720065160048</title>\n<path fill=\"none\" stroke=\"black\" d=\"M960.02,-310.92C937.49,-301 900.19,-284.58 874.31,-273.19\"/>\n<polygon fill=\"black\" stroke=\"black\" points=\"875.57,-269.92 865.01,-269.09 872.75,-276.32 875.57,-269.92\"/>\n</g>\n<!-- 134720065159904 -->\n<g id=\"node51\" class=\"node\">\n<title>134720065159904</title>\n<polygon fill=\"lightgrey\" stroke=\"black\" points=\"1060,-391 959,-391 959,-372 1060,-372 1060,-391\"/>\n<text text-anchor=\"middle\" x=\"1009.5\" y=\"-379\" font-family=\"monospace\" font-size=\"10.00\">AccumulateGrad</text>\n</g>\n<!-- 134720065159904&#45;&gt;134720065161968 -->\n<g id=\"edge49\" class=\"edge\">\n<title>134720065159904&#45;&gt;134720065161968</title>\n<path fill=\"none\" stroke=\"black\" d=\"M1005.07,-371.79C1000.73,-363.25 993.98,-349.98 988.51,-339.22\"/>\n<polygon fill=\"black\" stroke=\"black\" points=\"991.6,-337.57 983.94,-330.24 985.36,-340.74 991.6,-337.57\"/>\n</g>\n<!-- 134720059458480 -->\n<g id=\"node52\" class=\"node\">\n<title>134720059458480</title>\n<polygon fill=\"lightblue\" stroke=\"black\" points=\"1060,-464 959,-464 959,-433 1060,-433 1060,-464\"/>\n<text text-anchor=\"middle\" x=\"1009.5\" y=\"-440\" font-family=\"monospace\" font-size=\"10.00\"> (512, 200704)</text>\n</g>\n<!-- 134720059458480&#45;&gt;134720065159904 -->\n<g id=\"edge50\" class=\"edge\">\n<title>134720059458480&#45;&gt;134720065159904</title>\n<path fill=\"none\" stroke=\"black\" d=\"M1009.5,-432.75C1009.5,-423.39 1009.5,-411.19 1009.5,-401.16\"/>\n<polygon fill=\"black\" stroke=\"black\" points=\"1013,-401.02 1009.5,-391.02 1006,-401.02 1013,-401.02\"/>\n</g>\n<!-- 134720065165424 -->\n<g id=\"node53\" class=\"node\">\n<title>134720065165424</title>\n<polygon fill=\"lightgrey\" stroke=\"black\" points=\"996,-141 919,-141 919,-122 996,-122 996,-141\"/>\n<text text-anchor=\"middle\" x=\"957.5\" y=\"-129\" font-family=\"monospace\" font-size=\"10.00\">TBackward0</text>\n</g>\n<!-- 134720065165424&#45;&gt;134720065163456 -->\n<g id=\"edge51\" class=\"edge\">\n<title>134720065165424&#45;&gt;134720065163456</title>\n<path fill=\"none\" stroke=\"black\" d=\"M940.15,-121.98C922.93,-113.54 896.3,-100.47 876.35,-90.68\"/>\n<polygon fill=\"black\" stroke=\"black\" points=\"877.69,-87.43 867.17,-86.17 874.6,-93.72 877.69,-87.43\"/>\n</g>\n<!-- 134720065161392 -->\n<g id=\"node54\" class=\"node\">\n<title>134720065161392</title>\n<polygon fill=\"lightgrey\" stroke=\"black\" points=\"1012,-202 911,-202 911,-183 1012,-183 1012,-202\"/>\n<text text-anchor=\"middle\" x=\"961.5\" y=\"-190\" font-family=\"monospace\" font-size=\"10.00\">AccumulateGrad</text>\n</g>\n<!-- 134720065161392&#45;&gt;134720065165424 -->\n<g id=\"edge52\" class=\"edge\">\n<title>134720065161392&#45;&gt;134720065165424</title>\n<path fill=\"none\" stroke=\"black\" d=\"M960.91,-182.79C960.35,-174.6 959.5,-162.06 958.79,-151.55\"/>\n<polygon fill=\"black\" stroke=\"black\" points=\"962.26,-150.98 958.09,-141.24 955.28,-151.46 962.26,-150.98\"/>\n</g>\n<!-- 134719980309696 -->\n<g id=\"node55\" class=\"node\">\n<title>134719980309696</title>\n<polygon fill=\"lightblue\" stroke=\"black\" points=\"1003,-275 920,-275 920,-244 1003,-244 1003,-275\"/>\n<text text-anchor=\"middle\" x=\"961.5\" y=\"-251\" font-family=\"monospace\" font-size=\"10.00\"> (102, 512)</text>\n</g>\n<!-- 134719980309696&#45;&gt;134720065161392 -->\n<g id=\"edge53\" class=\"edge\">\n<title>134719980309696&#45;&gt;134720065161392</title>\n<path fill=\"none\" stroke=\"black\" d=\"M961.5,-243.75C961.5,-234.39 961.5,-222.19 961.5,-212.16\"/>\n<polygon fill=\"black\" stroke=\"black\" points=\"965,-212.02 961.5,-202.02 958,-212.02 965,-212.02\"/>\n</g>\n</g>\n</svg>\n",
            "text/plain": [
              "<graphviz.graphs.Digraph at 0x7a86f5a0c070>"
            ]
          },
          "metadata": {},
          "execution_count": 48
        }
      ]
    }
  ]
}